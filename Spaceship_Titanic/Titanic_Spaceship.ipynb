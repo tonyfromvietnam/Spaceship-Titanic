{
 "cells": [
  {
   "cell_type": "markdown",
   "id": "e9fa1247-fb31-415f-b644-c4df395dff58",
   "metadata": {},
   "source": [
    "# **Spaceship Titanic**\n",
    "## A Data Science project that predict which passengers are transported to an alternate dimension."
   ]
  },
  {
   "cell_type": "markdown",
   "id": "152cc5cf-e5e5-4e87-85a1-59acabaf2a3f",
   "metadata": {},
   "source": [
    "## **Problem overview**\n",
    "\n",
    "- The Spaceship Titanic was an interstellar passenger liner launched a month ago. With almost 13,000 passengers on board, the vessel set out on its maiden voyage transporting emigrants from our solar system to three newly habitable exoplanets orbiting nearby stars.\n",
    "\n",
    "- While rounding Alpha Centauri en route to its first destination—the torrid 55 Cancri E—the unwary Spaceship Titanic collided with a spacetime anomaly hidden within a dust cloud. Sadly, it met a similar fate as its namesake from 1000 years before. Though the ship stayed intact, almost half of the passengers were transported to an alternate dimension!\n",
    "\n",
    "- My task is to predict whether a passenger was transported to an alternate dimension during the Spaceship Titanic's collision with the spacetime anomaly, using a set of personal records recovered from the ship's damaged computer system."
   ]
  },
  {
   "cell_type": "markdown",
   "id": "3265efae-b0aa-4c25-aed4-81c6c3dc6751",
   "metadata": {},
   "source": [
    "## **File and Data Field Descriptions**\n",
    "### train.csv - Personal records for about two-thirds (~8700) of the passengers, to be used as training data.\n",
    "- PassengerId - A unique Id for each passenger. Each Id takes the form gggg_pp where gggg indicates a group the passenger is travelling with and pp is their number within the group. People in a group are often family members, but not always.\n",
    "- HomePlanet - The planet the passenger departed from, typically their planet of permanent residence.\n",
    "- CryoSleep - Indicates whether the passenger elected to be put into suspended animation for the duration of the voyage. Passengers in cryosleep are confined to their cabins.\n",
    "- Cabin - The cabin number where the passenger is staying. Takes the form deck/num/side, where side can be either P for Port or S for Starboard.\n",
    "- Destination - The planet the passenger will be debarking to.\n",
    "- Age - The age of the passenger.\n",
    "- VIP - Whether the passenger has paid for special VIP service during the voyage.\n",
    "- RoomService, FoodCourt, ShoppingMall, Spa, VRDeck - Amount the passenger has billed at each of the Spaceship Titanic's many luxury amenities.\n",
    "- Name - The first and last names of the passenger.\n",
    "- Transported - Whether the passenger was transported to another dimension. This is the target, the column you are trying to predict.\n",
    "\n",
    "\n",
    "### test.csv - Personal records for the remaining one-third (~4300) of the passengers, to be used as test data.\n",
    "My task is to predict the value of Transported for the passengers in this set."
   ]
  },
  {
   "cell_type": "code",
   "execution_count": 64,
   "id": "b5065c56-7f08-4256-8902-3a7e05ff1d98",
   "metadata": {},
   "outputs": [],
   "source": [
    "# Import required libraries for this project.\n",
    "import pandas as pd\n",
    "import numpy as np\n",
    "import matplotlib.pyplot as plt\n",
    "import seaborn as sns\n",
    "from sklearn.model_selection import train_test_split\n",
    "from sklearn.model_selection import cross_val_score\n",
    "from sklearn.compose import ColumnTransformer\n",
    "from sklearn.pipeline import Pipeline\n",
    "from sklearn.impute import SimpleImputer\n",
    "from sklearn.preprocessing import OneHotEncoder\n",
    "from sklearn.preprocessing import OrdinalEncoder\n",
    "from sklearn.ensemble import RandomForestRegressor\n",
    "from sklearn.tree import DecisionTreeRegressor\n",
    "from sklearn.metrics import mean_absolute_error\n",
    "\n",
    "\n",
    "# import warnings filter\n",
    "from warnings import simplefilter\n",
    "# ignore all future warnings\n",
    "simplefilter(action='ignore', category=FutureWarning)"
   ]
  },
  {
   "cell_type": "markdown",
   "id": "c1c51481-9f7f-46d6-9530-4bb0f7a0e44d",
   "metadata": {},
   "source": [
    "## Exploratory Data Analysis (EDA) process\n",
    "\n",
    "### Importing data\n",
    "This dataset is collected from Kaggle through this link: https://www.kaggle.com/competitions/spaceship-titanic/overview"
   ]
  },
  {
   "cell_type": "code",
   "execution_count": 65,
   "id": "907ad2e1-d970-4cb5-8cda-211bd535a8a4",
   "metadata": {},
   "outputs": [
    {
     "data": {
      "text/html": [
       "<div>\n",
       "<style scoped>\n",
       "    .dataframe tbody tr th:only-of-type {\n",
       "        vertical-align: middle;\n",
       "    }\n",
       "\n",
       "    .dataframe tbody tr th {\n",
       "        vertical-align: top;\n",
       "    }\n",
       "\n",
       "    .dataframe thead th {\n",
       "        text-align: right;\n",
       "    }\n",
       "</style>\n",
       "<table border=\"1\" class=\"dataframe\">\n",
       "  <thead>\n",
       "    <tr style=\"text-align: right;\">\n",
       "      <th></th>\n",
       "      <th>PassengerId</th>\n",
       "      <th>HomePlanet</th>\n",
       "      <th>CryoSleep</th>\n",
       "      <th>Cabin</th>\n",
       "      <th>Destination</th>\n",
       "      <th>Age</th>\n",
       "      <th>VIP</th>\n",
       "      <th>RoomService</th>\n",
       "      <th>FoodCourt</th>\n",
       "      <th>ShoppingMall</th>\n",
       "      <th>Spa</th>\n",
       "      <th>VRDeck</th>\n",
       "      <th>Name</th>\n",
       "      <th>Transported</th>\n",
       "    </tr>\n",
       "  </thead>\n",
       "  <tbody>\n",
       "    <tr>\n",
       "      <th>0</th>\n",
       "      <td>0001_01</td>\n",
       "      <td>Europa</td>\n",
       "      <td>False</td>\n",
       "      <td>B/0/P</td>\n",
       "      <td>TRAPPIST-1e</td>\n",
       "      <td>39.0</td>\n",
       "      <td>False</td>\n",
       "      <td>0.0</td>\n",
       "      <td>0.0</td>\n",
       "      <td>0.0</td>\n",
       "      <td>0.0</td>\n",
       "      <td>0.0</td>\n",
       "      <td>Maham Ofracculy</td>\n",
       "      <td>False</td>\n",
       "    </tr>\n",
       "    <tr>\n",
       "      <th>1</th>\n",
       "      <td>0002_01</td>\n",
       "      <td>Earth</td>\n",
       "      <td>False</td>\n",
       "      <td>F/0/S</td>\n",
       "      <td>TRAPPIST-1e</td>\n",
       "      <td>24.0</td>\n",
       "      <td>False</td>\n",
       "      <td>109.0</td>\n",
       "      <td>9.0</td>\n",
       "      <td>25.0</td>\n",
       "      <td>549.0</td>\n",
       "      <td>44.0</td>\n",
       "      <td>Juanna Vines</td>\n",
       "      <td>True</td>\n",
       "    </tr>\n",
       "    <tr>\n",
       "      <th>2</th>\n",
       "      <td>0003_01</td>\n",
       "      <td>Europa</td>\n",
       "      <td>False</td>\n",
       "      <td>A/0/S</td>\n",
       "      <td>TRAPPIST-1e</td>\n",
       "      <td>58.0</td>\n",
       "      <td>True</td>\n",
       "      <td>43.0</td>\n",
       "      <td>3576.0</td>\n",
       "      <td>0.0</td>\n",
       "      <td>6715.0</td>\n",
       "      <td>49.0</td>\n",
       "      <td>Altark Susent</td>\n",
       "      <td>False</td>\n",
       "    </tr>\n",
       "    <tr>\n",
       "      <th>3</th>\n",
       "      <td>0003_02</td>\n",
       "      <td>Europa</td>\n",
       "      <td>False</td>\n",
       "      <td>A/0/S</td>\n",
       "      <td>TRAPPIST-1e</td>\n",
       "      <td>33.0</td>\n",
       "      <td>False</td>\n",
       "      <td>0.0</td>\n",
       "      <td>1283.0</td>\n",
       "      <td>371.0</td>\n",
       "      <td>3329.0</td>\n",
       "      <td>193.0</td>\n",
       "      <td>Solam Susent</td>\n",
       "      <td>False</td>\n",
       "    </tr>\n",
       "    <tr>\n",
       "      <th>4</th>\n",
       "      <td>0004_01</td>\n",
       "      <td>Earth</td>\n",
       "      <td>False</td>\n",
       "      <td>F/1/S</td>\n",
       "      <td>TRAPPIST-1e</td>\n",
       "      <td>16.0</td>\n",
       "      <td>False</td>\n",
       "      <td>303.0</td>\n",
       "      <td>70.0</td>\n",
       "      <td>151.0</td>\n",
       "      <td>565.0</td>\n",
       "      <td>2.0</td>\n",
       "      <td>Willy Santantines</td>\n",
       "      <td>True</td>\n",
       "    </tr>\n",
       "  </tbody>\n",
       "</table>\n",
       "</div>"
      ],
      "text/plain": [
       "  PassengerId HomePlanet CryoSleep  Cabin  Destination   Age    VIP  \\\n",
       "0     0001_01     Europa     False  B/0/P  TRAPPIST-1e  39.0  False   \n",
       "1     0002_01      Earth     False  F/0/S  TRAPPIST-1e  24.0  False   \n",
       "2     0003_01     Europa     False  A/0/S  TRAPPIST-1e  58.0   True   \n",
       "3     0003_02     Europa     False  A/0/S  TRAPPIST-1e  33.0  False   \n",
       "4     0004_01      Earth     False  F/1/S  TRAPPIST-1e  16.0  False   \n",
       "\n",
       "   RoomService  FoodCourt  ShoppingMall     Spa  VRDeck               Name  \\\n",
       "0          0.0        0.0           0.0     0.0     0.0    Maham Ofracculy   \n",
       "1        109.0        9.0          25.0   549.0    44.0       Juanna Vines   \n",
       "2         43.0     3576.0           0.0  6715.0    49.0      Altark Susent   \n",
       "3          0.0     1283.0         371.0  3329.0   193.0       Solam Susent   \n",
       "4        303.0       70.0         151.0   565.0     2.0  Willy Santantines   \n",
       "\n",
       "   Transported  \n",
       "0        False  \n",
       "1         True  \n",
       "2        False  \n",
       "3        False  \n",
       "4         True  "
      ]
     },
     "execution_count": 65,
     "metadata": {},
     "output_type": "execute_result"
    }
   ],
   "source": [
    "# Load the dataset into python.\n",
    "\n",
    "training_dataset = pd.read_csv('spaceship-titanic/train.csv')\n",
    "output_dataset = pd.read_csv('spaceship-titanic/test.csv')\n",
    "training_dataset.head()"
   ]
  },
  {
   "cell_type": "code",
   "execution_count": 66,
   "id": "af4c4ad3-3193-4d92-9ec5-5c6b122e09bb",
   "metadata": {},
   "outputs": [
    {
     "data": {
      "text/html": [
       "<div>\n",
       "<style scoped>\n",
       "    .dataframe tbody tr th:only-of-type {\n",
       "        vertical-align: middle;\n",
       "    }\n",
       "\n",
       "    .dataframe tbody tr th {\n",
       "        vertical-align: top;\n",
       "    }\n",
       "\n",
       "    .dataframe thead th {\n",
       "        text-align: right;\n",
       "    }\n",
       "</style>\n",
       "<table border=\"1\" class=\"dataframe\">\n",
       "  <thead>\n",
       "    <tr style=\"text-align: right;\">\n",
       "      <th></th>\n",
       "      <th>PassengerId</th>\n",
       "      <th>HomePlanet</th>\n",
       "      <th>CryoSleep</th>\n",
       "      <th>Cabin</th>\n",
       "      <th>Destination</th>\n",
       "      <th>Age</th>\n",
       "      <th>VIP</th>\n",
       "      <th>RoomService</th>\n",
       "      <th>FoodCourt</th>\n",
       "      <th>ShoppingMall</th>\n",
       "      <th>Spa</th>\n",
       "      <th>VRDeck</th>\n",
       "      <th>Name</th>\n",
       "      <th>Transported</th>\n",
       "    </tr>\n",
       "  </thead>\n",
       "  <tbody>\n",
       "    <tr>\n",
       "      <th>8688</th>\n",
       "      <td>9276_01</td>\n",
       "      <td>Europa</td>\n",
       "      <td>False</td>\n",
       "      <td>A/98/P</td>\n",
       "      <td>55 Cancri e</td>\n",
       "      <td>41.0</td>\n",
       "      <td>True</td>\n",
       "      <td>0.0</td>\n",
       "      <td>6819.0</td>\n",
       "      <td>0.0</td>\n",
       "      <td>1643.0</td>\n",
       "      <td>74.0</td>\n",
       "      <td>Gravior Noxnuther</td>\n",
       "      <td>False</td>\n",
       "    </tr>\n",
       "    <tr>\n",
       "      <th>8689</th>\n",
       "      <td>9278_01</td>\n",
       "      <td>Earth</td>\n",
       "      <td>True</td>\n",
       "      <td>G/1499/S</td>\n",
       "      <td>PSO J318.5-22</td>\n",
       "      <td>18.0</td>\n",
       "      <td>False</td>\n",
       "      <td>0.0</td>\n",
       "      <td>0.0</td>\n",
       "      <td>0.0</td>\n",
       "      <td>0.0</td>\n",
       "      <td>0.0</td>\n",
       "      <td>Kurta Mondalley</td>\n",
       "      <td>False</td>\n",
       "    </tr>\n",
       "    <tr>\n",
       "      <th>8690</th>\n",
       "      <td>9279_01</td>\n",
       "      <td>Earth</td>\n",
       "      <td>False</td>\n",
       "      <td>G/1500/S</td>\n",
       "      <td>TRAPPIST-1e</td>\n",
       "      <td>26.0</td>\n",
       "      <td>False</td>\n",
       "      <td>0.0</td>\n",
       "      <td>0.0</td>\n",
       "      <td>1872.0</td>\n",
       "      <td>1.0</td>\n",
       "      <td>0.0</td>\n",
       "      <td>Fayey Connon</td>\n",
       "      <td>True</td>\n",
       "    </tr>\n",
       "    <tr>\n",
       "      <th>8691</th>\n",
       "      <td>9280_01</td>\n",
       "      <td>Europa</td>\n",
       "      <td>False</td>\n",
       "      <td>E/608/S</td>\n",
       "      <td>55 Cancri e</td>\n",
       "      <td>32.0</td>\n",
       "      <td>False</td>\n",
       "      <td>0.0</td>\n",
       "      <td>1049.0</td>\n",
       "      <td>0.0</td>\n",
       "      <td>353.0</td>\n",
       "      <td>3235.0</td>\n",
       "      <td>Celeon Hontichre</td>\n",
       "      <td>False</td>\n",
       "    </tr>\n",
       "    <tr>\n",
       "      <th>8692</th>\n",
       "      <td>9280_02</td>\n",
       "      <td>Europa</td>\n",
       "      <td>False</td>\n",
       "      <td>E/608/S</td>\n",
       "      <td>TRAPPIST-1e</td>\n",
       "      <td>44.0</td>\n",
       "      <td>False</td>\n",
       "      <td>126.0</td>\n",
       "      <td>4688.0</td>\n",
       "      <td>0.0</td>\n",
       "      <td>0.0</td>\n",
       "      <td>12.0</td>\n",
       "      <td>Propsh Hontichre</td>\n",
       "      <td>True</td>\n",
       "    </tr>\n",
       "  </tbody>\n",
       "</table>\n",
       "</div>"
      ],
      "text/plain": [
       "     PassengerId HomePlanet CryoSleep     Cabin    Destination   Age    VIP  \\\n",
       "8688     9276_01     Europa     False    A/98/P    55 Cancri e  41.0   True   \n",
       "8689     9278_01      Earth      True  G/1499/S  PSO J318.5-22  18.0  False   \n",
       "8690     9279_01      Earth     False  G/1500/S    TRAPPIST-1e  26.0  False   \n",
       "8691     9280_01     Europa     False   E/608/S    55 Cancri e  32.0  False   \n",
       "8692     9280_02     Europa     False   E/608/S    TRAPPIST-1e  44.0  False   \n",
       "\n",
       "      RoomService  FoodCourt  ShoppingMall     Spa  VRDeck               Name  \\\n",
       "8688          0.0     6819.0           0.0  1643.0    74.0  Gravior Noxnuther   \n",
       "8689          0.0        0.0           0.0     0.0     0.0    Kurta Mondalley   \n",
       "8690          0.0        0.0        1872.0     1.0     0.0       Fayey Connon   \n",
       "8691          0.0     1049.0           0.0   353.0  3235.0   Celeon Hontichre   \n",
       "8692        126.0     4688.0           0.0     0.0    12.0   Propsh Hontichre   \n",
       "\n",
       "      Transported  \n",
       "8688        False  \n",
       "8689        False  \n",
       "8690         True  \n",
       "8691        False  \n",
       "8692         True  "
      ]
     },
     "execution_count": 66,
     "metadata": {},
     "output_type": "execute_result"
    }
   ],
   "source": [
    "training_dataset.tail()"
   ]
  },
  {
   "cell_type": "code",
   "execution_count": 67,
   "id": "d8cbcc7e-eced-4792-afe4-5708eb62cf49",
   "metadata": {},
   "outputs": [
    {
     "name": "stdout",
     "output_type": "stream",
     "text": [
      "(8693, 14)\n",
      "Index(['PassengerId', 'HomePlanet', 'CryoSleep', 'Cabin', 'Destination', 'Age',\n",
      "       'VIP', 'RoomService', 'FoodCourt', 'ShoppingMall', 'Spa', 'VRDeck',\n",
      "       'Name', 'Transported'],\n",
      "      dtype='object')\n"
     ]
    }
   ],
   "source": [
    "# Return the shape of the dataset\n",
    "print(training_dataset.shape)\n",
    "\n",
    "# Return the columns of the dataset\n",
    "print(training_dataset.columns)"
   ]
  },
  {
   "cell_type": "markdown",
   "id": "65807826-a348-4cee-8960-bdf24cc23035",
   "metadata": {},
   "source": [
    "#### This dataset includes 8639 rows & 14 columns, which are stated before on the Data Field Section."
   ]
  },
  {
   "cell_type": "code",
   "execution_count": 68,
   "id": "5f6af0ec-7677-422d-9d6e-136e94b2c5ca",
   "metadata": {},
   "outputs": [
    {
     "name": "stdout",
     "output_type": "stream",
     "text": [
      "The unique values of each category\n",
      "                 0\n",
      "PassengerId   8693\n",
      "HomePlanet       3\n",
      "CryoSleep        2\n",
      "Cabin         6560\n",
      "Destination      3\n",
      "Age             80\n",
      "VIP              2\n",
      "RoomService   1273\n",
      "FoodCourt     1507\n",
      "ShoppingMall  1115\n",
      "Spa           1327\n",
      "VRDeck        1306\n",
      "Name          8473\n",
      "Transported      2\n",
      "\n",
      "The unique values of the HomePlanet category:\n",
      "['Europa' 'Earth' 'Mars' nan]\n"
     ]
    }
   ],
   "source": [
    "# Return the unique values of each category\n",
    "print(\"The unique values of each category\")\n",
    "print(training_dataset.nunique().to_frame())\n",
    "\n",
    "# Return the unique values of the HomePlanet categories, as it seems interesting\n",
    "print(\"\\nThe unique values of the HomePlanet category:\")\n",
    "print(training_dataset['HomePlanet'].unique())"
   ]
  },
  {
   "cell_type": "markdown",
   "id": "dab69894-c6c4-4a1e-8c82-4a2fac13861c",
   "metadata": {},
   "source": [
    "### Data Evaluating\n",
    "\n",
    "\n",
    "We can see that there are categories that might and might not be related to the final result, here is the step I'm analysing the relationships between these categories and the target variable 'Transported'."
   ]
  },
  {
   "cell_type": "code",
   "execution_count": 69,
   "id": "d15769e7-fc57-4060-ab81-e00bb052179e",
   "metadata": {
    "tags": []
   },
   "outputs": [
    {
     "name": "stdout",
     "output_type": "stream",
     "text": [
      "The percentage of loss data\n",
      "                 0\n",
      "PassengerId   0.00\n",
      "HomePlanet    2.37\n",
      "CryoSleep     2.56\n",
      "Cabin         2.34\n",
      "Destination   2.14\n",
      "Age           2.10\n",
      "VIP           2.39\n",
      "RoomService   2.13\n",
      "FoodCourt     2.15\n",
      "ShoppingMall  2.45\n",
      "Spa           2.15\n",
      "VRDeck        2.21\n",
      "Name          2.35\n",
      "Transported   0.00\n"
     ]
    }
   ],
   "source": [
    "# Return the percentage of Null values in every categories\n",
    "\n",
    "print(\"The percentage of loss data\")\n",
    "print(round(training_dataset.isnull().sum().to_frame() / training_dataset.count().to_frame(), 4) * 100)"
   ]
  },
  {
   "cell_type": "markdown",
   "id": "289c302a-4574-4437-8255-5b2325297f81",
   "metadata": {},
   "source": [
    "**The data loss in this dataset is under 5%, which Schafer (1999) asserted that a missing rate of 5% or less is inconsequential.**\n",
    "- Link to article: https://www.ncbi.nlm.nih.gov/pmc/articles/PMC3701793/#CR50.\n",
    "- Because of that, it is better to not dropping any columns from the dataset.\n",
    "\n",
    "**However, in this dataset, there are categories that are not related to the final result**\n",
    "- Non-related categories: the categories include PassengerId, Name as those categories that definitely not related to the final result.\n",
    "- Might-related categories: the categories include Age, RoomService, FoodCourt, ShoppingMall, Spa, VRDeck might not related to the final result.\n",
    "- Highly-related categories: the categories include HomePlanet, CryoSleep, Destination, VIP are the categories that might be most-related to the final result.\n",
    "**Because of that, I will drop the non-related categories & visualise the relationships between might-related & highly-related categories.**\n",
    "\n",
    "\n",
    "- **Special variable: Cabin**\n",
    "- As this variable contains 3 parts, deck/num/side. It might be related to the final result. I will break this category specifically into 3 categories and visualise the relationships between them and the targetted category."
   ]
  },
  {
   "cell_type": "code",
   "execution_count": 70,
   "id": "58e9b178-af12-4354-9fd2-90313434f1fa",
   "metadata": {},
   "outputs": [
    {
     "data": {
      "text/html": [
       "<div>\n",
       "<style scoped>\n",
       "    .dataframe tbody tr th:only-of-type {\n",
       "        vertical-align: middle;\n",
       "    }\n",
       "\n",
       "    .dataframe tbody tr th {\n",
       "        vertical-align: top;\n",
       "    }\n",
       "\n",
       "    .dataframe thead th {\n",
       "        text-align: right;\n",
       "    }\n",
       "</style>\n",
       "<table border=\"1\" class=\"dataframe\">\n",
       "  <thead>\n",
       "    <tr style=\"text-align: right;\">\n",
       "      <th></th>\n",
       "      <th>Transported</th>\n",
       "    </tr>\n",
       "  </thead>\n",
       "  <tbody>\n",
       "    <tr>\n",
       "      <th>True</th>\n",
       "      <td>0.503624</td>\n",
       "    </tr>\n",
       "    <tr>\n",
       "      <th>False</th>\n",
       "      <td>0.496376</td>\n",
       "    </tr>\n",
       "  </tbody>\n",
       "</table>\n",
       "</div>"
      ],
      "text/plain": [
       "       Transported\n",
       "True      0.503624\n",
       "False     0.496376"
      ]
     },
     "execution_count": 70,
     "metadata": {},
     "output_type": "execute_result"
    }
   ],
   "source": [
    "# Have a clearer view of Transported category (target variable)\n",
    "\n",
    "training_dataset['Transported'].value_counts(normalize=True).to_frame()"
   ]
  },
  {
   "cell_type": "markdown",
   "id": "ead6b50f-9266-4972-8161-b0ac2adf93c8",
   "metadata": {},
   "source": [
    "#### This means 50.3 % of people in this dataset will be transported, while the rest are not\n",
    "- Bellow i will perform some correlations between some categories and the target variable"
   ]
  },
  {
   "cell_type": "markdown",
   "id": "d455ea20-82a3-483d-a8be-46463fd97803",
   "metadata": {},
   "source": [
    "### Creating a copy of the dataset to see the correlation of cabin to target variable"
   ]
  },
  {
   "cell_type": "code",
   "execution_count": 71,
   "id": "1a82971f-a352-4ec5-8889-70aa90a78af6",
   "metadata": {},
   "outputs": [
    {
     "data": {
      "text/plain": [
       "0"
      ]
     },
     "execution_count": 71,
     "metadata": {},
     "output_type": "execute_result"
    }
   ],
   "source": [
    "# Return the missing values from the Cabin category. Returning its index in the training_dataset\n",
    "cabin_missing_val = training_dataset['Cabin'].isnull()\n",
    "missing_values = list(cabin_missing_val[cabin_missing_val > 0].index)\n",
    "\n",
    "\n",
    "# Create a copy of the dataset, in that removed all the cabin missing values in the training_dataset\n",
    "test_data = training_dataset.drop(missing_values)\n",
    "test_data['Cabin'].isnull().sum()  # Return the number of the cabin missing values in the test_data"
   ]
  },
  {
   "cell_type": "code",
   "execution_count": 72,
   "id": "aaa8a5a6-61d1-4604-9c35-65ffb0235238",
   "metadata": {},
   "outputs": [
    {
     "data": {
      "text/html": [
       "<div>\n",
       "<style scoped>\n",
       "    .dataframe tbody tr th:only-of-type {\n",
       "        vertical-align: middle;\n",
       "    }\n",
       "\n",
       "    .dataframe tbody tr th {\n",
       "        vertical-align: top;\n",
       "    }\n",
       "\n",
       "    .dataframe thead th {\n",
       "        text-align: right;\n",
       "    }\n",
       "</style>\n",
       "<table border=\"1\" class=\"dataframe\">\n",
       "  <thead>\n",
       "    <tr style=\"text-align: right;\">\n",
       "      <th></th>\n",
       "      <th>PassengerId</th>\n",
       "      <th>HomePlanet</th>\n",
       "      <th>CryoSleep</th>\n",
       "      <th>Destination</th>\n",
       "      <th>Age</th>\n",
       "      <th>VIP</th>\n",
       "      <th>RoomService</th>\n",
       "      <th>FoodCourt</th>\n",
       "      <th>ShoppingMall</th>\n",
       "      <th>Spa</th>\n",
       "      <th>VRDeck</th>\n",
       "      <th>Name</th>\n",
       "      <th>Transported</th>\n",
       "      <th>deck</th>\n",
       "      <th>num</th>\n",
       "      <th>side</th>\n",
       "    </tr>\n",
       "  </thead>\n",
       "  <tbody>\n",
       "    <tr>\n",
       "      <th>0</th>\n",
       "      <td>0001_01</td>\n",
       "      <td>Europa</td>\n",
       "      <td>False</td>\n",
       "      <td>TRAPPIST-1e</td>\n",
       "      <td>39.0</td>\n",
       "      <td>False</td>\n",
       "      <td>0.0</td>\n",
       "      <td>0.0</td>\n",
       "      <td>0.0</td>\n",
       "      <td>0.0</td>\n",
       "      <td>0.0</td>\n",
       "      <td>Maham Ofracculy</td>\n",
       "      <td>False</td>\n",
       "      <td>B</td>\n",
       "      <td>0</td>\n",
       "      <td>P</td>\n",
       "    </tr>\n",
       "    <tr>\n",
       "      <th>1</th>\n",
       "      <td>0002_01</td>\n",
       "      <td>Earth</td>\n",
       "      <td>False</td>\n",
       "      <td>TRAPPIST-1e</td>\n",
       "      <td>24.0</td>\n",
       "      <td>False</td>\n",
       "      <td>109.0</td>\n",
       "      <td>9.0</td>\n",
       "      <td>25.0</td>\n",
       "      <td>549.0</td>\n",
       "      <td>44.0</td>\n",
       "      <td>Juanna Vines</td>\n",
       "      <td>True</td>\n",
       "      <td>F</td>\n",
       "      <td>0</td>\n",
       "      <td>S</td>\n",
       "    </tr>\n",
       "    <tr>\n",
       "      <th>2</th>\n",
       "      <td>0003_01</td>\n",
       "      <td>Europa</td>\n",
       "      <td>False</td>\n",
       "      <td>TRAPPIST-1e</td>\n",
       "      <td>58.0</td>\n",
       "      <td>True</td>\n",
       "      <td>43.0</td>\n",
       "      <td>3576.0</td>\n",
       "      <td>0.0</td>\n",
       "      <td>6715.0</td>\n",
       "      <td>49.0</td>\n",
       "      <td>Altark Susent</td>\n",
       "      <td>False</td>\n",
       "      <td>A</td>\n",
       "      <td>0</td>\n",
       "      <td>S</td>\n",
       "    </tr>\n",
       "    <tr>\n",
       "      <th>3</th>\n",
       "      <td>0003_02</td>\n",
       "      <td>Europa</td>\n",
       "      <td>False</td>\n",
       "      <td>TRAPPIST-1e</td>\n",
       "      <td>33.0</td>\n",
       "      <td>False</td>\n",
       "      <td>0.0</td>\n",
       "      <td>1283.0</td>\n",
       "      <td>371.0</td>\n",
       "      <td>3329.0</td>\n",
       "      <td>193.0</td>\n",
       "      <td>Solam Susent</td>\n",
       "      <td>False</td>\n",
       "      <td>A</td>\n",
       "      <td>0</td>\n",
       "      <td>S</td>\n",
       "    </tr>\n",
       "    <tr>\n",
       "      <th>4</th>\n",
       "      <td>0004_01</td>\n",
       "      <td>Earth</td>\n",
       "      <td>False</td>\n",
       "      <td>TRAPPIST-1e</td>\n",
       "      <td>16.0</td>\n",
       "      <td>False</td>\n",
       "      <td>303.0</td>\n",
       "      <td>70.0</td>\n",
       "      <td>151.0</td>\n",
       "      <td>565.0</td>\n",
       "      <td>2.0</td>\n",
       "      <td>Willy Santantines</td>\n",
       "      <td>True</td>\n",
       "      <td>F</td>\n",
       "      <td>1</td>\n",
       "      <td>S</td>\n",
       "    </tr>\n",
       "  </tbody>\n",
       "</table>\n",
       "</div>"
      ],
      "text/plain": [
       "  PassengerId HomePlanet CryoSleep  Destination   Age    VIP  RoomService  \\\n",
       "0     0001_01     Europa     False  TRAPPIST-1e  39.0  False          0.0   \n",
       "1     0002_01      Earth     False  TRAPPIST-1e  24.0  False        109.0   \n",
       "2     0003_01     Europa     False  TRAPPIST-1e  58.0   True         43.0   \n",
       "3     0003_02     Europa     False  TRAPPIST-1e  33.0  False          0.0   \n",
       "4     0004_01      Earth     False  TRAPPIST-1e  16.0  False        303.0   \n",
       "\n",
       "   FoodCourt  ShoppingMall     Spa  VRDeck               Name  Transported  \\\n",
       "0        0.0           0.0     0.0     0.0    Maham Ofracculy        False   \n",
       "1        9.0          25.0   549.0    44.0       Juanna Vines         True   \n",
       "2     3576.0           0.0  6715.0    49.0      Altark Susent        False   \n",
       "3     1283.0         371.0  3329.0   193.0       Solam Susent        False   \n",
       "4       70.0         151.0   565.0     2.0  Willy Santantines         True   \n",
       "\n",
       "  deck num side  \n",
       "0    B   0    P  \n",
       "1    F   0    S  \n",
       "2    A   0    S  \n",
       "3    A   0    S  \n",
       "4    F   1    S  "
      ]
     },
     "execution_count": 72,
     "metadata": {},
     "output_type": "execute_result"
    }
   ],
   "source": [
    "# Extract the column Cabin as its might be helpful\n",
    "test_data['deck'] = test_data['Cabin'].apply(lambda x : str(x).split('/')[0])\n",
    "test_data['num'] = test_data['Cabin'].apply(lambda x : str(x).split('/')[1])\n",
    "test_data['side'] = test_data['Cabin'].apply(lambda x : str(x).split('/')[2])\n",
    "\n",
    "\n",
    "# Drop the Cabin category in the test_data as it isn't used\n",
    "test_data.drop(['Cabin'], axis=1, inplace=True)\n",
    "\n",
    "test_data.head()"
   ]
  },
  {
   "cell_type": "code",
   "execution_count": 73,
   "id": "47df5f3c-13fb-4229-9c41-8f6e6e35b000",
   "metadata": {},
   "outputs": [
    {
     "name": "stdout",
     "output_type": "stream",
     "text": [
      "['B' 'F' 'A' 'G' 'E' 'D' 'C' 'T']\n",
      "['0' '1' '2' ... '1892' '1893' '1894']\n",
      "['P' 'S']\n"
     ]
    }
   ],
   "source": [
    "# Return the unique values of the Cabin's sub-categories\n",
    "print(test_data['deck'].unique())\n",
    "print(test_data['num'].unique())\n",
    "print(test_data['side'].unique())"
   ]
  },
  {
   "cell_type": "markdown",
   "id": "11bd1643-6785-4533-a0a0-e0d618a294b4",
   "metadata": {},
   "source": [
    "### Correlations between the Cabin's sub-categories and target variable"
   ]
  },
  {
   "cell_type": "code",
   "execution_count": 74,
   "id": "4e40dc1b-4d68-4c72-8104-65a3e2db070c",
   "metadata": {},
   "outputs": [
    {
     "data": {
      "image/png": "[encoded data removed]",
      "text/plain": [
       "<Figure size 432x288 with 2 Axes>"
      ]
     },
     "metadata": {
      "needs_background": "light"
     },
     "output_type": "display_data"
    }
   ],
   "source": [
    "# Visualisation for the correlations between the sides & decks of Cabin & target variable.\n",
    "\n",
    "fig, (ax1, ax2) = plt.subplots(1, 2) \n",
    "sns.countplot(data=test_data, x='side', hue='Transported', ax=ax1).set_title('Relations in sides of the cabin');\n",
    "sns.countplot(data=test_data, x='deck', hue='Transported', ax=ax2).set_title('Relations in decks of the cabin');\n",
    "plt.subplots_adjust(left=0,bottom=0.1,right=2)"
   ]
  },
  {
   "cell_type": "code",
   "execution_count": 75,
   "id": "862ecae1-4df3-486b-a6c8-df584b70b8b9",
   "metadata": {},
   "outputs": [
    {
     "data": {
      "image/png": "[encoded data removed]",
      "text/plain": [
       "<Figure size 432x288 with 1 Axes>"
      ]
     },
     "metadata": {
      "needs_background": "light"
     },
     "output_type": "display_data"
    }
   ],
   "source": [
    "# Split the num category into specific groups.\n",
    "\n",
    "seat = pd.to_numeric(test_data['num'])\n",
    "seat_labels = ['0-167', '168-427', '427-999', '1000-1894']\n",
    "seat_data = pd.qcut(seat, 4, labels=seat_labels)\n",
    "\n",
    "sns.countplot(x=seat_data, hue=test_data['Transported']).set_title('The relation between seat number and final result');"
   ]
  },
  {
   "cell_type": "markdown",
   "id": "2716e626-1c4d-45e8-b20a-de9dc4692eb4",
   "metadata": {},
   "source": [
    "#### **Observation**\n",
    "**From the sides relations:**\n",
    "- More people from the side S of the Cabin is being transported, while the side P is in contrast.\n",
    "- Because of that, I can conclude that sides of the Cabin is **might-related** category for the dataset.\n",
    "**From the decks relations:**\n",
    "- It is clear that most of the people are located at the decks F & G, while there are a really few number of people located at the T deck.\n",
    "- It can be seen that the correlations from deck B & C is significant, compared to another decks. However, that relations are not enough to represent the references between decks & the possibility of being transported.\n",
    "- Because of that, I can conclude that decks of the Cabin is **non-related** category for the dataset.\n",
    "**From the seats relations:**\n",
    "- It is clear that people from the front row are having more chances to be transported, while the the lower you are, the lower chances to be transported you have.\n",
    "- Because of that, I can conclude that seats of the Cabin is **non-related** category for the dataset.\n",
    "\n",
    "##### From the above analysis, I can come up with the conclusion that most of the Cabin positions are **non-related** to the final result.\n",
    "#### Besides from the fact that the sides of the seat might affect the possibilty of being transported. Because of that, it is **reasonable** to add side columns into training dataset."
   ]
  },
  {
   "cell_type": "code",
   "execution_count": 76,
   "id": "54f95be8-24bf-428b-b998-0fc1b9b5aa5b",
   "metadata": {},
   "outputs": [
    {
     "data": {
      "text/html": [
       "<div>\n",
       "<style scoped>\n",
       "    .dataframe tbody tr th:only-of-type {\n",
       "        vertical-align: middle;\n",
       "    }\n",
       "\n",
       "    .dataframe tbody tr th {\n",
       "        vertical-align: top;\n",
       "    }\n",
       "\n",
       "    .dataframe thead th {\n",
       "        text-align: right;\n",
       "    }\n",
       "</style>\n",
       "<table border=\"1\" class=\"dataframe\">\n",
       "  <thead>\n",
       "    <tr style=\"text-align: right;\">\n",
       "      <th></th>\n",
       "      <th>PassengerId</th>\n",
       "      <th>HomePlanet</th>\n",
       "      <th>CryoSleep</th>\n",
       "      <th>Cabin</th>\n",
       "      <th>Destination</th>\n",
       "      <th>Age</th>\n",
       "      <th>VIP</th>\n",
       "      <th>RoomService</th>\n",
       "      <th>FoodCourt</th>\n",
       "      <th>ShoppingMall</th>\n",
       "      <th>Spa</th>\n",
       "      <th>VRDeck</th>\n",
       "      <th>Name</th>\n",
       "      <th>Transported</th>\n",
       "      <th>side</th>\n",
       "    </tr>\n",
       "  </thead>\n",
       "  <tbody>\n",
       "    <tr>\n",
       "      <th>0</th>\n",
       "      <td>0001_01</td>\n",
       "      <td>Europa</td>\n",
       "      <td>False</td>\n",
       "      <td>B/0/P</td>\n",
       "      <td>TRAPPIST-1e</td>\n",
       "      <td>39.0</td>\n",
       "      <td>False</td>\n",
       "      <td>0.0</td>\n",
       "      <td>0.0</td>\n",
       "      <td>0.0</td>\n",
       "      <td>0.0</td>\n",
       "      <td>0.0</td>\n",
       "      <td>Maham Ofracculy</td>\n",
       "      <td>False</td>\n",
       "      <td>P</td>\n",
       "    </tr>\n",
       "    <tr>\n",
       "      <th>1</th>\n",
       "      <td>0002_01</td>\n",
       "      <td>Earth</td>\n",
       "      <td>False</td>\n",
       "      <td>F/0/S</td>\n",
       "      <td>TRAPPIST-1e</td>\n",
       "      <td>24.0</td>\n",
       "      <td>False</td>\n",
       "      <td>109.0</td>\n",
       "      <td>9.0</td>\n",
       "      <td>25.0</td>\n",
       "      <td>549.0</td>\n",
       "      <td>44.0</td>\n",
       "      <td>Juanna Vines</td>\n",
       "      <td>True</td>\n",
       "      <td>S</td>\n",
       "    </tr>\n",
       "    <tr>\n",
       "      <th>2</th>\n",
       "      <td>0003_01</td>\n",
       "      <td>Europa</td>\n",
       "      <td>False</td>\n",
       "      <td>A/0/S</td>\n",
       "      <td>TRAPPIST-1e</td>\n",
       "      <td>58.0</td>\n",
       "      <td>True</td>\n",
       "      <td>43.0</td>\n",
       "      <td>3576.0</td>\n",
       "      <td>0.0</td>\n",
       "      <td>6715.0</td>\n",
       "      <td>49.0</td>\n",
       "      <td>Altark Susent</td>\n",
       "      <td>False</td>\n",
       "      <td>S</td>\n",
       "    </tr>\n",
       "    <tr>\n",
       "      <th>3</th>\n",
       "      <td>0003_02</td>\n",
       "      <td>Europa</td>\n",
       "      <td>False</td>\n",
       "      <td>A/0/S</td>\n",
       "      <td>TRAPPIST-1e</td>\n",
       "      <td>33.0</td>\n",
       "      <td>False</td>\n",
       "      <td>0.0</td>\n",
       "      <td>1283.0</td>\n",
       "      <td>371.0</td>\n",
       "      <td>3329.0</td>\n",
       "      <td>193.0</td>\n",
       "      <td>Solam Susent</td>\n",
       "      <td>False</td>\n",
       "      <td>S</td>\n",
       "    </tr>\n",
       "    <tr>\n",
       "      <th>4</th>\n",
       "      <td>0004_01</td>\n",
       "      <td>Earth</td>\n",
       "      <td>False</td>\n",
       "      <td>F/1/S</td>\n",
       "      <td>TRAPPIST-1e</td>\n",
       "      <td>16.0</td>\n",
       "      <td>False</td>\n",
       "      <td>303.0</td>\n",
       "      <td>70.0</td>\n",
       "      <td>151.0</td>\n",
       "      <td>565.0</td>\n",
       "      <td>2.0</td>\n",
       "      <td>Willy Santantines</td>\n",
       "      <td>True</td>\n",
       "      <td>S</td>\n",
       "    </tr>\n",
       "  </tbody>\n",
       "</table>\n",
       "</div>"
      ],
      "text/plain": [
       "  PassengerId HomePlanet CryoSleep  Cabin  Destination   Age    VIP  \\\n",
       "0     0001_01     Europa     False  B/0/P  TRAPPIST-1e  39.0  False   \n",
       "1     0002_01      Earth     False  F/0/S  TRAPPIST-1e  24.0  False   \n",
       "2     0003_01     Europa     False  A/0/S  TRAPPIST-1e  58.0   True   \n",
       "3     0003_02     Europa     False  A/0/S  TRAPPIST-1e  33.0  False   \n",
       "4     0004_01      Earth     False  F/1/S  TRAPPIST-1e  16.0  False   \n",
       "\n",
       "   RoomService  FoodCourt  ShoppingMall     Spa  VRDeck               Name  \\\n",
       "0          0.0        0.0           0.0     0.0     0.0    Maham Ofracculy   \n",
       "1        109.0        9.0          25.0   549.0    44.0       Juanna Vines   \n",
       "2         43.0     3576.0           0.0  6715.0    49.0      Altark Susent   \n",
       "3          0.0     1283.0         371.0  3329.0   193.0       Solam Susent   \n",
       "4        303.0       70.0         151.0   565.0     2.0  Willy Santantines   \n",
       "\n",
       "   Transported side  \n",
       "0        False    P  \n",
       "1         True    S  \n",
       "2        False    S  \n",
       "3        False    S  \n",
       "4         True    S  "
      ]
     },
     "execution_count": 76,
     "metadata": {},
     "output_type": "execute_result"
    }
   ],
   "source": [
    "training_dataset = pd.concat([training_dataset, test_data['side']], axis=1)\n",
    "training_dataset.head()"
   ]
  },
  {
   "cell_type": "markdown",
   "id": "5b53f166-bceb-4327-aa5e-93750ca34465",
   "metadata": {},
   "source": [
    "### Correlations between the might-related categories and target variable"
   ]
  },
  {
   "cell_type": "markdown",
   "id": "6cb0e7df-92c5-4340-8db7-6b4b03ea3c4b",
   "metadata": {},
   "source": [
    "#### Brief analysis of the categories"
   ]
  },
  {
   "cell_type": "code",
   "execution_count": 77,
   "id": "85754114-ac5b-4e80-a427-86e5ec1abdf6",
   "metadata": {},
   "outputs": [
    {
     "data": {
      "text/html": [
       "<div>\n",
       "<style scoped>\n",
       "    .dataframe tbody tr th:only-of-type {\n",
       "        vertical-align: middle;\n",
       "    }\n",
       "\n",
       "    .dataframe tbody tr th {\n",
       "        vertical-align: top;\n",
       "    }\n",
       "\n",
       "    .dataframe thead th {\n",
       "        text-align: right;\n",
       "    }\n",
       "</style>\n",
       "<table border=\"1\" class=\"dataframe\">\n",
       "  <thead>\n",
       "    <tr style=\"text-align: right;\">\n",
       "      <th></th>\n",
       "      <th>Age</th>\n",
       "      <th>RoomService</th>\n",
       "      <th>FoodCourt</th>\n",
       "      <th>ShoppingMall</th>\n",
       "      <th>Spa</th>\n",
       "      <th>VRDeck</th>\n",
       "    </tr>\n",
       "  </thead>\n",
       "  <tbody>\n",
       "    <tr>\n",
       "      <th>count</th>\n",
       "      <td>8514.000000</td>\n",
       "      <td>8512.000000</td>\n",
       "      <td>8510.000000</td>\n",
       "      <td>8485.000000</td>\n",
       "      <td>8510.000000</td>\n",
       "      <td>8505.000000</td>\n",
       "    </tr>\n",
       "    <tr>\n",
       "      <th>mean</th>\n",
       "      <td>28.827930</td>\n",
       "      <td>224.687617</td>\n",
       "      <td>458.077203</td>\n",
       "      <td>173.729169</td>\n",
       "      <td>311.138778</td>\n",
       "      <td>304.854791</td>\n",
       "    </tr>\n",
       "    <tr>\n",
       "      <th>std</th>\n",
       "      <td>14.489021</td>\n",
       "      <td>666.717663</td>\n",
       "      <td>1611.489240</td>\n",
       "      <td>604.696458</td>\n",
       "      <td>1136.705535</td>\n",
       "      <td>1145.717189</td>\n",
       "    </tr>\n",
       "    <tr>\n",
       "      <th>min</th>\n",
       "      <td>0.000000</td>\n",
       "      <td>0.000000</td>\n",
       "      <td>0.000000</td>\n",
       "      <td>0.000000</td>\n",
       "      <td>0.000000</td>\n",
       "      <td>0.000000</td>\n",
       "    </tr>\n",
       "    <tr>\n",
       "      <th>25%</th>\n",
       "      <td>19.000000</td>\n",
       "      <td>0.000000</td>\n",
       "      <td>0.000000</td>\n",
       "      <td>0.000000</td>\n",
       "      <td>0.000000</td>\n",
       "      <td>0.000000</td>\n",
       "    </tr>\n",
       "    <tr>\n",
       "      <th>50%</th>\n",
       "      <td>27.000000</td>\n",
       "      <td>0.000000</td>\n",
       "      <td>0.000000</td>\n",
       "      <td>0.000000</td>\n",
       "      <td>0.000000</td>\n",
       "      <td>0.000000</td>\n",
       "    </tr>\n",
       "    <tr>\n",
       "      <th>75%</th>\n",
       "      <td>38.000000</td>\n",
       "      <td>47.000000</td>\n",
       "      <td>76.000000</td>\n",
       "      <td>27.000000</td>\n",
       "      <td>59.000000</td>\n",
       "      <td>46.000000</td>\n",
       "    </tr>\n",
       "    <tr>\n",
       "      <th>max</th>\n",
       "      <td>79.000000</td>\n",
       "      <td>14327.000000</td>\n",
       "      <td>29813.000000</td>\n",
       "      <td>23492.000000</td>\n",
       "      <td>22408.000000</td>\n",
       "      <td>24133.000000</td>\n",
       "    </tr>\n",
       "  </tbody>\n",
       "</table>\n",
       "</div>"
      ],
      "text/plain": [
       "               Age   RoomService     FoodCourt  ShoppingMall           Spa  \\\n",
       "count  8514.000000   8512.000000   8510.000000   8485.000000   8510.000000   \n",
       "mean     28.827930    224.687617    458.077203    173.729169    311.138778   \n",
       "std      14.489021    666.717663   1611.489240    604.696458   1136.705535   \n",
       "min       0.000000      0.000000      0.000000      0.000000      0.000000   \n",
       "25%      19.000000      0.000000      0.000000      0.000000      0.000000   \n",
       "50%      27.000000      0.000000      0.000000      0.000000      0.000000   \n",
       "75%      38.000000     47.000000     76.000000     27.000000     59.000000   \n",
       "max      79.000000  14327.000000  29813.000000  23492.000000  22408.000000   \n",
       "\n",
       "             VRDeck  \n",
       "count   8505.000000  \n",
       "mean     304.854791  \n",
       "std     1145.717189  \n",
       "min        0.000000  \n",
       "25%        0.000000  \n",
       "50%        0.000000  \n",
       "75%       46.000000  \n",
       "max    24133.000000  "
      ]
     },
     "execution_count": 77,
     "metadata": {},
     "output_type": "execute_result"
    }
   ],
   "source": [
    "# Return the descriptions of each category\n",
    " \n",
    "training_dataset.describe(include=[np.number])"
   ]
  },
  {
   "cell_type": "markdown",
   "id": "e8f8f591-e020-4809-9de9-dc630dfe5a1d",
   "metadata": {},
   "source": [
    "### Analysis of the relationships between age & target variable"
   ]
  },
  {
   "cell_type": "code",
   "execution_count": 78,
   "id": "0ee05875-1d28-45a4-8a4a-ddc59d967708",
   "metadata": {},
   "outputs": [
    {
     "data": {
      "image/png": "[encoded data removed]",
      "text/plain": [
       "<Figure size 432x288 with 1 Axes>"
      ]
     },
     "metadata": {
      "needs_background": "light"
     },
     "output_type": "display_data"
    }
   ],
   "source": [
    "sns.histplot(data=training_dataset, x='Age', hue='Transported', bins=40, kde=True);"
   ]
  },
  {
   "cell_type": "markdown",
   "id": "fae690e3-e0b2-4aae-abc9-f68a30ac6cae",
   "metadata": {},
   "source": [
    "**Observation**\n",
    "- Children (0-20) are more likely to be Transported."
   ]
  },
  {
   "cell_type": "markdown",
   "id": "6fd77a5b-2b3b-4727-a39e-ea0603c5ff2c",
   "metadata": {
    "tags": []
   },
   "source": [
    "### Analysis of the relationships between might-related categories & target variable.\n",
    "\n",
    "- **Since there are too much differences (in quartiles) in the categories of RoomService, FoodCourt, ShoppingMall, Spa & VRDeck,**\n",
    "I would like to split those categories into 2 groups, which are Purchase & Non-Purchase."
   ]
  },
  {
   "cell_type": "code",
   "execution_count": 79,
   "id": "efa74dea-69e7-4758-96f3-ae5953ebb09a",
   "metadata": {},
   "outputs": [
    {
     "data": {
      "image/png": "[encoded data removed]",
      "text/plain": [
       "<Figure size 756x504 with 6 Axes>"
      ]
     },
     "metadata": {
      "needs_background": "light"
     },
     "output_type": "display_data"
    }
   ],
   "source": [
    "# Divide the might-related categories into 2 groups, which are Purchase & Non-Purchase\n",
    "room = pd.cut(training_dataset['RoomService'],bins=[-1,1,max(training_dataset['RoomService']) + 1],labels=['Non-Purchased','Purchased'])\n",
    "food = pd.cut(training_dataset['FoodCourt'],bins=[-1,1,max(training_dataset['FoodCourt']) + 1],labels=['Non-Purchased','Purchased'])\n",
    "shopping = pd.cut(training_dataset['ShoppingMall'],bins=[-1,1,max(training_dataset['ShoppingMall']) + 1],labels=['Non-Purchased','Purchased'])\n",
    "spa = pd.cut(training_dataset['Spa'],bins=[-1,1,max(training_dataset['Spa']) + 1],labels=['Non-Purchased','Purchased'])\n",
    "vr = pd.cut(training_dataset['VRDeck'],bins=[-1,1,max(training_dataset['VRDeck']) + 1],labels=['Non-Purchased','Purchased'])\n",
    "\n",
    "\n",
    "# Visualisations for the above categories\n",
    "ncols = 3\n",
    "nrows = 2\n",
    "cols = [room, food, shopping, spa, vr]\n",
    "\n",
    "fig, ax = plt.subplots(nrows, ncols, figsize=(ncols*3.5, nrows*3.5))\n",
    "\n",
    "for r in range(nrows):\n",
    "    for c in range(ncols):\n",
    "        i = r * ncols + c  # loop through columns\n",
    "        if i < len(cols):\n",
    "            ax_i = ax[r, c]\n",
    "            sns.countplot(x=cols[i], hue=training_dataset['Transported'], ax=ax_i);\n",
    "            ax_i.set_title(f'{i + 1}. Relation: {cols[i].name} vs Transported')\n",
    "            \n",
    "\n",
    "ax.flat[-1].set_visible(False)  # Remove the last subplot            \n",
    "plt.tight_layout()"
   ]
  },
  {
   "cell_type": "markdown",
   "id": "0855b444-6cc6-43f0-a357-6ca6c5e08f7f",
   "metadata": {},
   "source": [
    "**Observation**\n",
    "- It is clear from most of the graph that there aren't any big relations between purchased people vs the final result, as there aren't any differences between other categories. Most of the people being transported are non-purchased.\n",
    "- Because of that, I can conclude that categories of the amount the passenger has billed at each of the Spaceship Titanic's many luxury amenities are **non-related** categories for the dataset."
   ]
  },
  {
   "cell_type": "markdown",
   "id": "c7248504-d0b3-4bbc-b6fa-b4c9354bb2b0",
   "metadata": {},
   "source": [
    "### In conclusion, it is clear that non-related categories from this dataset includes \n",
    "- PassengerId\n",
    "- RoomService\n",
    "- FoodCourt\n",
    "- ShoppingMall\n",
    "- Spa\n",
    "- VRDeck\n",
    "- Name\n",
    "- Cabin (expect for sides)\n",
    "\n",
    "**Because of that, I'll eliminate un-used categories**"
   ]
  },
  {
   "cell_type": "code",
   "execution_count": 80,
   "id": "b26ec960-655a-445d-8e26-bebe726a27e5",
   "metadata": {},
   "outputs": [
    {
     "name": "stdout",
     "output_type": "stream",
     "text": [
      "  HomePlanet CryoSleep  Destination   Age    VIP  Transported side\n",
      "0     Europa     False  TRAPPIST-1e  39.0  False        False    P\n",
      "1      Earth     False  TRAPPIST-1e  24.0  False         True    S\n",
      "2     Europa     False  TRAPPIST-1e  58.0   True        False    S\n",
      "3     Europa     False  TRAPPIST-1e  33.0  False        False    S\n",
      "4      Earth     False  TRAPPIST-1e  16.0  False         True    S\n",
      "\n",
      "  PassengerId HomePlanet CryoSleep  Cabin  Destination   Age    VIP\n",
      "0     0013_01      Earth      True  G/3/S  TRAPPIST-1e  27.0  False\n",
      "1     0018_01      Earth     False  F/4/S  TRAPPIST-1e  19.0  False\n",
      "2     0019_01     Europa      True  C/0/S  55 Cancri e  31.0  False\n",
      "3     0021_01     Europa     False  C/1/S  TRAPPIST-1e  38.0  False\n",
      "4     0023_01      Earth     False  F/5/S  TRAPPIST-1e  20.0  False\n"
     ]
    }
   ],
   "source": [
    "# Drop columns that includes non-related categories as there are no use.\n",
    "training_dataset.drop(['PassengerId', 'Name', 'Cabin', 'RoomService', 'FoodCourt', 'ShoppingMall', 'Spa', 'VRDeck'], axis=1, inplace=True)\n",
    "\n",
    "output_dataset.drop(['Name', 'RoomService', 'FoodCourt', 'ShoppingMall', 'Spa', 'VRDeck'], axis=1, inplace=True)\n",
    "\n",
    "print(training_dataset.head())\n",
    "print()\n",
    "print(output_dataset.head())"
   ]
  },
  {
   "cell_type": "markdown",
   "id": "a8d72adc-71d2-45eb-99fa-91337e4a3eba",
   "metadata": {},
   "source": [
    "**After eliminate those redundant categories, let see the remaining data loss**"
   ]
  },
  {
   "cell_type": "code",
   "execution_count": 81,
   "id": "c7466f82-ec10-4a32-aa55-2549cb296bb5",
   "metadata": {},
   "outputs": [
    {
     "name": "stdout",
     "output_type": "stream",
     "text": [
      "Data loss per category\n",
      "HomePlanet     201\n",
      "CryoSleep      217\n",
      "Destination    182\n",
      "Age            179\n",
      "VIP            203\n",
      "Transported      0\n",
      "side           199\n",
      "dtype: int64\n"
     ]
    },
    {
     "data": {
      "text/plain": [
       "<AxesSubplot:>"
      ]
     },
     "execution_count": 81,
     "metadata": {},
     "output_type": "execute_result"
    },
    {
     "data": {
      "image/png": "[encoded data removed]",
      "text/plain": [
       "<Figure size 432x288 with 1 Axes>"
      ]
     },
     "metadata": {
      "needs_background": "light"
     },
     "output_type": "display_data"
    }
   ],
   "source": [
    "# Visualise the data loss in every categories\n",
    "\n",
    "print(\"Data loss per category\")\n",
    "print(training_dataset.isnull().sum())\n",
    "sns.heatmap(training_dataset.isnull(), cbar=False)"
   ]
  },
  {
   "cell_type": "markdown",
   "id": "227e95e3-a6f6-4729-b3ab-63c9329d918e",
   "metadata": {},
   "source": [
    "**Afterwards, I will visualise the distribution between values in the highly-related data to find out the best imputation for the data**"
   ]
  },
  {
   "cell_type": "code",
   "execution_count": 82,
   "id": "ec6fc8a6-2d9f-4f76-ac7b-630fe131cddd",
   "metadata": {},
   "outputs": [
    {
     "data": {
      "image/png": "[encoded data removed]",
      "text/plain": [
       "<Figure size 756x504 with 6 Axes>"
      ]
     },
     "metadata": {
      "needs_background": "light"
     },
     "output_type": "display_data"
    }
   ],
   "source": [
    "ncols = 3\n",
    "nrows = 2\n",
    "cols = ['HomePlanet', 'CryoSleep', 'Destination', 'VIP', 'side']\n",
    "\n",
    "fig, ax = plt.subplots(nrows, ncols, figsize=(ncols*3.5, nrows*3.5))\n",
    "\n",
    "for r in range(nrows):\n",
    "    for c in range(ncols):\n",
    "        i = r * ncols + c  # loop through columns\n",
    "        if i < len(cols):\n",
    "            ax_i = ax[r, c]\n",
    "            sns.countplot(x=training_dataset[cols[i]], hue=training_dataset['Transported'], ax=ax_i);\n",
    "            ax_i.set_title(f'{i + 1}. Distribution in {cols[i]}')\n",
    "            \n",
    "\n",
    "ax.flat[-1].set_visible(False)  # Remove the last subplot            \n",
    "plt.tight_layout()"
   ]
  },
  {
   "cell_type": "markdown",
   "id": "efe4e7bf-88ab-4f78-88fb-b62d1d9fcb01",
   "metadata": {},
   "source": [
    "**Observation**\n",
    "- It is clear now that VIP category are **non-related** category to the final result. As the differences between the VIP status & the possibility of being Transported are not efficient enough. Because of that, it is better to drop the VIP rows out of the dataset.\n",
    "\n",
    "**Hypothesis**\n",
    "- It is clear that there are significant differences in the distributions of the categories, including CryoSleep, side. Because of that, it is better to eliminate the columns without the data of those categories.\n",
    "- In contrast, it can be seen that the remaining categories are not too devianted comparing with the mentioned categories, which is reasonable to replace those categories with most_frequent strategy for HomePlanet & Destination & median strategy for Age."
   ]
  },
  {
   "cell_type": "code",
   "execution_count": 83,
   "id": "2e3381db-b5cc-4fb9-a47d-c525e2b92aee",
   "metadata": {},
   "outputs": [],
   "source": [
    "# Drop the VIP category, as mentioned above\n",
    "training_dataset.drop(['VIP'], axis=1, inplace=True)"
   ]
  },
  {
   "cell_type": "markdown",
   "id": "fdcd980c-7bf8-42cf-aaa0-441f3193b7e4",
   "metadata": {},
   "source": [
    "### Data Preprocessing"
   ]
  },
  {
   "cell_type": "markdown",
   "id": "62fcba7a-ed1f-434c-ae63-9dddeee0785c",
   "metadata": {},
   "source": [
    "- Based on different ways of cleaning data (handling missing data & encode categorical datas), we can have better or worse possibility of getting a efficient ML model.\n",
    "- Because of that, I will use some compare 2 strategies, that would be beneficial in making a great ML model.\n",
    "1. For handling missing data, I have 2 strategies based on the hypothesis.\n",
    "- Remove all the missing data.\n",
    "- Replace the missing data with the most_frequent appearance or median strategy.\n",
    "\n",
    "2. For encoding categorical datas (including 'HomePlanet', 'Destination'), I have 2 strategies as well.\n",
    "- Ordinal Encoding: Encode the data into different numbers that represent the categories of the data.\n",
    "- One-Hot-Encoding: Encode the data into matrices that that represent the categories of the data.\n",
    "\n",
    "**To achieve the most convenient & efficient approach, I would build pipelines, in order to make the data-preprocessing steps easier & more concise.**"
   ]
  },
  {
   "cell_type": "code",
   "execution_count": 84,
   "id": "4dd07348-41c4-497a-8c76-c15aafa3a805",
   "metadata": {},
   "outputs": [],
   "source": [
    "# Separate target from predictors\n",
    "testing_dataset = training_dataset['Transported']\n",
    "training_dataset.drop(['Transported'], axis=1, inplace=True)\n",
    "\n",
    "# Break off validation set from training data\n",
    "X_train_full, X_valid_full, y_train, y_valid = train_test_split(training_dataset, testing_dataset, \n",
    "                                                                train_size=0.8, test_size=0.2,\n",
    "                                                                random_state=0)\n",
    "\n",
    "# Select categorical columns\n",
    "categorical_cols = [cname for cname in X_train_full.columns if \n",
    "                    X_train_full[cname].dtype == \"object\"]\n",
    "\n",
    "# Select numerical columns\n",
    "numerical_cols = [cname for cname in X_train_full.columns if \n",
    "                X_train_full[cname].dtype in ['int64', 'float64']]\n",
    "\n",
    "# Keep selected columns only\n",
    "my_cols = categorical_cols + numerical_cols\n",
    "X_train = X_train_full[my_cols].copy()\n",
    "X_valid = X_valid_full[my_cols].copy()\n",
    "\n",
    "# Extract the column Cabin in the output_dataset\n",
    "output_dataset['side'] = output_dataset['Cabin'].apply(lambda x : x if (type(x) == type(output_dataset['Cabin'][18])) else str(x).split('/')[2])\n",
    "output_dataset.drop(['Cabin'], axis=1, inplace=True)"
   ]
  },
  {
   "cell_type": "code",
   "execution_count": 85,
   "id": "951fe37f-4acf-4b65-ac6d-d2ee8d828df8",
   "metadata": {},
   "outputs": [
    {
     "data": {
      "text/html": [
       "<div>\n",
       "<style scoped>\n",
       "    .dataframe tbody tr th:only-of-type {\n",
       "        vertical-align: middle;\n",
       "    }\n",
       "\n",
       "    .dataframe tbody tr th {\n",
       "        vertical-align: top;\n",
       "    }\n",
       "\n",
       "    .dataframe thead th {\n",
       "        text-align: right;\n",
       "    }\n",
       "</style>\n",
       "<table border=\"1\" class=\"dataframe\">\n",
       "  <thead>\n",
       "    <tr style=\"text-align: right;\">\n",
       "      <th></th>\n",
       "      <th>PassengerId</th>\n",
       "      <th>HomePlanet</th>\n",
       "      <th>CryoSleep</th>\n",
       "      <th>Destination</th>\n",
       "      <th>Age</th>\n",
       "      <th>VIP</th>\n",
       "      <th>side</th>\n",
       "    </tr>\n",
       "  </thead>\n",
       "  <tbody>\n",
       "    <tr>\n",
       "      <th>0</th>\n",
       "      <td>0013_01</td>\n",
       "      <td>Earth</td>\n",
       "      <td>True</td>\n",
       "      <td>TRAPPIST-1e</td>\n",
       "      <td>27.0</td>\n",
       "      <td>False</td>\n",
       "      <td>S</td>\n",
       "    </tr>\n",
       "    <tr>\n",
       "      <th>1</th>\n",
       "      <td>0018_01</td>\n",
       "      <td>Earth</td>\n",
       "      <td>False</td>\n",
       "      <td>TRAPPIST-1e</td>\n",
       "      <td>19.0</td>\n",
       "      <td>False</td>\n",
       "      <td>S</td>\n",
       "    </tr>\n",
       "    <tr>\n",
       "      <th>2</th>\n",
       "      <td>0019_01</td>\n",
       "      <td>Europa</td>\n",
       "      <td>True</td>\n",
       "      <td>55 Cancri e</td>\n",
       "      <td>31.0</td>\n",
       "      <td>False</td>\n",
       "      <td>S</td>\n",
       "    </tr>\n",
       "    <tr>\n",
       "      <th>3</th>\n",
       "      <td>0021_01</td>\n",
       "      <td>Europa</td>\n",
       "      <td>False</td>\n",
       "      <td>TRAPPIST-1e</td>\n",
       "      <td>38.0</td>\n",
       "      <td>False</td>\n",
       "      <td>S</td>\n",
       "    </tr>\n",
       "    <tr>\n",
       "      <th>4</th>\n",
       "      <td>0023_01</td>\n",
       "      <td>Earth</td>\n",
       "      <td>False</td>\n",
       "      <td>TRAPPIST-1e</td>\n",
       "      <td>20.0</td>\n",
       "      <td>False</td>\n",
       "      <td>S</td>\n",
       "    </tr>\n",
       "  </tbody>\n",
       "</table>\n",
       "</div>"
      ],
      "text/plain": [
       "  PassengerId HomePlanet CryoSleep  Destination   Age    VIP side\n",
       "0     0013_01      Earth      True  TRAPPIST-1e  27.0  False    S\n",
       "1     0018_01      Earth     False  TRAPPIST-1e  19.0  False    S\n",
       "2     0019_01     Europa      True  55 Cancri e  31.0  False    S\n",
       "3     0021_01     Europa     False  TRAPPIST-1e  38.0  False    S\n",
       "4     0023_01      Earth     False  TRAPPIST-1e  20.0  False    S"
      ]
     },
     "execution_count": 85,
     "metadata": {},
     "output_type": "execute_result"
    }
   ],
   "source": [
    "output_dataset.head()"
   ]
  },
  {
   "cell_type": "code",
   "execution_count": 86,
   "id": "d4eb2545-c7d8-4396-97fd-b8041f8adfe0",
   "metadata": {},
   "outputs": [],
   "source": [
    "# Define a same model for the dataset\n",
    "model = DecisionTreeRegressor(random_state=0)\n",
    "\n",
    "# Missing values handling for numerical data\n",
    "median_imputer = SimpleImputer(strategy='median')\n",
    "mean_imputer = SimpleImputer(strategy='mean')\n",
    "most_frequent_imputer = SimpleImputer(strategy='most_frequent')"
   ]
  },
  {
   "cell_type": "markdown",
   "id": "e311e3c3-6fd1-49d3-a1e4-2896189b406f",
   "metadata": {},
   "source": [
    "#### Pipeline for encoding categorical data"
   ]
  },
  {
   "cell_type": "code",
   "execution_count": 87,
   "id": "4adca9b6-7d53-4872-abf6-aa1954c8c104",
   "metadata": {},
   "outputs": [],
   "source": [
    "# Processing strategies for categorical data\n",
    "mfi_oe_transformer = Pipeline(steps=[\n",
    "    ('imputer', SimpleImputer(strategy='most_frequent')),\n",
    "    ('odi', OrdinalEncoder())\n",
    "])\n",
    "\n",
    "mfi_oh_transformer = Pipeline(steps=[\n",
    "    ('imputer', SimpleImputer(strategy='most_frequent')),\n",
    "    ('onehot', OneHotEncoder(handle_unknown='ignore'))\n",
    "])"
   ]
  },
  {
   "cell_type": "markdown",
   "id": "2de097c2-8ca7-471c-94d3-bebc56afdcac",
   "metadata": {},
   "source": [
    "#### Mean Absolute Error (MAE) for Approach of: Median Imputer for numerical data & One Hot Encoder for categorical data"
   ]
  },
  {
   "cell_type": "code",
   "execution_count": 88,
   "id": "81822664-fd7e-4b3a-ac7f-0c580c82a166",
   "metadata": {},
   "outputs": [
    {
     "name": "stdout",
     "output_type": "stream",
     "text": [
      "MAE 1: 0.3557281048978256\n"
     ]
    }
   ],
   "source": [
    "# Bundles preprocessing for numerical and categorical data\n",
    "# Strategy: median imputer for numerical columns.\n",
    "# Strategy: One Hot Encoder for categorical columns.\n",
    "\n",
    "preprocessor1 = ColumnTransformer(\n",
    "    transformers=[\n",
    "        ('num', median_imputer, numerical_cols),\n",
    "        ('cat', mfi_oh_transformer, categorical_cols)\n",
    "    ])\n",
    "\n",
    "\n",
    "clf1 = Pipeline(steps=[('preprocessor', preprocessor1),\n",
    "                      ('model', model)\n",
    "                     ])\n",
    "\n",
    "# Preprocessing of training data, fit model \n",
    "clf1.fit(X_train, y_train)\n",
    "\n",
    "# Preprocessing of validation data, get predictions\n",
    "preds = clf1.predict(X_valid)\n",
    "print('MAE 1:', mean_absolute_error(y_valid, preds))"
   ]
  },
  {
   "cell_type": "markdown",
   "id": "14e4e41b-2e6c-428b-af3c-955d1330df83",
   "metadata": {},
   "source": [
    "#### Mean Absolute Error (MAE) for Approach of: Mean Imputer for numerical data & One Hot Encoder for categorical data"
   ]
  },
  {
   "cell_type": "code",
   "execution_count": 89,
   "id": "73577641-82c1-4e80-b0e9-c6f6be4ff22d",
   "metadata": {},
   "outputs": [
    {
     "name": "stdout",
     "output_type": "stream",
     "text": [
      "MAE 2: 0.3551242877450443\n"
     ]
    }
   ],
   "source": [
    "# Bundles preprocessing for numerical and categorical data\n",
    "# Strategy: mean imputer for numerical collumns.\n",
    "# Strategy: One Hot Encoder for categorical columns.\n",
    "\n",
    "preprocessor2 = ColumnTransformer(\n",
    "    transformers=[\n",
    "        ('num', mean_imputer, numerical_cols),\n",
    "        ('cat', mfi_oh_transformer, categorical_cols)\n",
    "    ])\n",
    "\n",
    "\n",
    "clf2 = Pipeline(steps=[('preprocessor', preprocessor2),\n",
    "                      ('model', model)\n",
    "                     ])\n",
    "\n",
    "# Preprocessing of training data, fit model \n",
    "clf2.fit(X_train, y_train)\n",
    "\n",
    "# Preprocessing of validation data, get predictions\n",
    "preds = clf2.predict(X_valid)\n",
    "print('MAE 2:', mean_absolute_error(y_valid, preds))"
   ]
  },
  {
   "cell_type": "markdown",
   "id": "c54d9f89-94b3-4aab-a266-5933182ef8c3",
   "metadata": {},
   "source": [
    "#### Mean Absolute Error (MAE) for Approach of: Most Frequent Imputer for numerical data & One Hot Encoder for categorical data"
   ]
  },
  {
   "cell_type": "code",
   "execution_count": 90,
   "id": "1c5df62b-9f50-4901-97ea-1ee785c4ac4b",
   "metadata": {},
   "outputs": [
    {
     "name": "stdout",
     "output_type": "stream",
     "text": [
      "MAE 3: 0.35621941990291145\n"
     ]
    }
   ],
   "source": [
    "# Bundles preprocessing for numerical and categorical data\n",
    "# Strategy: most_frequent imputer for numerical collumns.\n",
    "# Strategy: One Hot Encoder for categorical columns.\n",
    "\n",
    "preprocessor3 = ColumnTransformer(\n",
    "    transformers=[\n",
    "        ('num', most_frequent_imputer, numerical_cols),\n",
    "        ('cat', mfi_oh_transformer, categorical_cols)\n",
    "    ])\n",
    "\n",
    "\n",
    "clf3 = Pipeline(steps=[('preprocessor', preprocessor3),\n",
    "                      ('model', model)\n",
    "                     ])\n",
    "\n",
    "# Preprocessing of training data, fit model \n",
    "clf3.fit(X_train, y_train)\n",
    "\n",
    "# Preprocessing of validation data, get predictions\n",
    "preds = clf3.predict(X_valid)\n",
    "print('MAE 3:', mean_absolute_error(y_valid, preds))"
   ]
  },
  {
   "cell_type": "markdown",
   "id": "a3631218-c7c5-48ff-9b9d-a36772f49db3",
   "metadata": {},
   "source": [
    "#### Mean Absolute Error (MAE) for Approach of: Most Median Imputer for numerical data & Ordinal Encoder for categorical data"
   ]
  },
  {
   "cell_type": "code",
   "execution_count": 91,
   "id": "63f256f8-b114-4584-9868-c538e585121f",
   "metadata": {},
   "outputs": [
    {
     "name": "stdout",
     "output_type": "stream",
     "text": [
      "MAE 4: 0.3556790261253426\n"
     ]
    }
   ],
   "source": [
    "# Bundles preprocessing for numerical and categorical data\n",
    "# Strategy: median imputer for numerical collumns.\n",
    "# Strategy: Ordinal Encoder for categorical columns.\n",
    "\n",
    "preprocessor4 = ColumnTransformer(\n",
    "    transformers=[\n",
    "        ('num', median_imputer, numerical_cols),\n",
    "        ('cat', mfi_oe_transformer, categorical_cols)\n",
    "    ])\n",
    "\n",
    "\n",
    "clf4 = Pipeline(steps=[('preprocessor', preprocessor4),\n",
    "                      ('model', model)\n",
    "                     ])\n",
    "\n",
    "# Preprocessing of training data, fit model \n",
    "clf4.fit(X_train, y_train)\n",
    "\n",
    "# Preprocessing of validation data, get predictions\n",
    "preds = clf4.predict(X_valid)\n",
    "print('MAE 4:', mean_absolute_error(y_valid, preds))"
   ]
  },
  {
   "cell_type": "markdown",
   "id": "41c6e432-d424-44ee-8f7d-74de8b35e27b",
   "metadata": {},
   "source": [
    "#### Mean Absolute Error (MAE) for Approach of: Mean Imputer for numerical data & Ordinal Encoder for categorical data"
   ]
  },
  {
   "cell_type": "code",
   "execution_count": 92,
   "id": "5d905c8f-1391-4f65-be07-6173c30d44f8",
   "metadata": {},
   "outputs": [
    {
     "name": "stdout",
     "output_type": "stream",
     "text": [
      "MAE 5: 0.35500517166848145\n"
     ]
    }
   ],
   "source": [
    "# Bundles preprocessing for numerical and categorical data\n",
    "# Strategy: mean imputer for numerical collumns.\n",
    "# Strategy: Ordinal Encoder for categorical columns.\n",
    "\n",
    "preprocessor5 = ColumnTransformer(\n",
    "    transformers=[\n",
    "        ('num', mean_imputer, numerical_cols),\n",
    "        ('cat', mfi_oe_transformer, categorical_cols)\n",
    "    ])\n",
    "\n",
    "\n",
    "clf5 = Pipeline(steps=[('preprocessor', preprocessor5),\n",
    "                      ('model', model)\n",
    "                     ])\n",
    "\n",
    "# Preprocessing of training data, fit model \n",
    "clf5.fit(X_train, y_train)\n",
    "\n",
    "# Preprocessing of validation data, get predictions\n",
    "preds = clf5.predict(X_valid)\n",
    "print('MAE 5:', mean_absolute_error(y_valid, preds))"
   ]
  },
  {
   "cell_type": "markdown",
   "id": "b7fd7879-7cf1-45b6-a9e4-7779546b0628",
   "metadata": {},
   "source": [
    "#### Mean Absolute Error (MAE) for Approach of: Most Frequent Imputer for numerical data & Ordinal Encoder for categorical data"
   ]
  },
  {
   "cell_type": "code",
   "execution_count": 93,
   "id": "c33c9b2f-b764-48b6-bbc2-c38210e93478",
   "metadata": {},
   "outputs": [
    {
     "name": "stdout",
     "output_type": "stream",
     "text": [
      "MAE 6: 0.35664111819695016\n"
     ]
    }
   ],
   "source": [
    "# Bundles preprocessing for numerical and categorical data\n",
    "# Strategy: most_frequent imputer for numerical collumns.\n",
    "# Strategy: Ordinal Encoder for categorical columns.\n",
    "\n",
    "preprocessor6 = ColumnTransformer(\n",
    "    transformers=[\n",
    "        ('num', most_frequent_imputer, numerical_cols),\n",
    "        ('cat', mfi_oe_transformer, categorical_cols)\n",
    "    ])\n",
    "\n",
    "\n",
    "clf6 = Pipeline(steps=[('preprocessor', preprocessor6),\n",
    "                      ('model', model)\n",
    "                     ])\n",
    "\n",
    "# Preprocessing of training data, fit model \n",
    "clf6.fit(X_train, y_train)\n",
    "\n",
    "# Preprocessing of validation data, get predictions\n",
    "preds = clf6.predict(X_valid)\n",
    "print('MAE 6:', mean_absolute_error(y_valid, preds))"
   ]
  },
  {
   "cell_type": "markdown",
   "id": "3435a547-2081-4a28-98da-3f87f7b6f401",
   "metadata": {},
   "source": [
    "### Observation\n",
    "\n",
    "- Since the lower MAE is, the better preprocessing we're having.\n",
    "- The best preprocessing strategy (approach) is replacing missing data with most frequent data & encode the categorical data by the strategy Ordinal.\n",
    "- The MAE for this approach is ~0.3550 (MAE 5)"
   ]
  },
  {
   "cell_type": "code",
   "execution_count": 94,
   "id": "6c88ed26-74d1-453f-85fb-97376b36512a",
   "metadata": {},
   "outputs": [],
   "source": [
    "best_preprocesser = preprocessor5"
   ]
  },
  {
   "cell_type": "markdown",
   "id": "2269b425-76d3-4436-a1b0-e5052f625cd2",
   "metadata": {},
   "source": [
    "### Data Model Evaluation\n",
    "\n",
    "- **In this step, I will evaluate the effiency of the models, specifically DecisionTreeRegressor & RandomForestRegressor**\n",
    "- Afterwards, I will look fot the best number of nodes to achieve the best model & avoiding underfitting & overfitting."
   ]
  },
  {
   "cell_type": "markdown",
   "id": "a96a1725-c9f5-456d-b100-2cfc9cf9daa8",
   "metadata": {},
   "source": [
    "#### This is the evaluation for the DecisionTreeRegressor model.\n",
    "- I'm using the parameter random_state as to avoid bias dataset."
   ]
  },
  {
   "cell_type": "code",
   "execution_count": 95,
   "id": "77627a5f-49a6-4d19-acfb-cb30006897fb",
   "metadata": {},
   "outputs": [
    {
     "name": "stdout",
     "output_type": "stream",
     "text": [
      "Validation MAE of the model DecisionTreeRegressor: 0.3544301285402468\n"
     ]
    }
   ],
   "source": [
    "# Specify Model (DecisionTreeRegressor)\n",
    "decision_tree = DecisionTreeRegressor(random_state=1)\n",
    "\n",
    "eval_decision_tree = Pipeline(steps=[('preprocessor', best_preprocesser),\n",
    "                     ('model', decision_tree)\n",
    "                     ])\n",
    "\n",
    "# Preprocessing of training data, fit model \n",
    "eval_decision_tree.fit(X_train, y_train)\n",
    "\n",
    "# Preprocessing of validation data, get predictions\n",
    "preds = eval_decision_tree.predict(X_valid)\n",
    "print(\"Validation MAE of the model DecisionTreeRegressor:\", mean_absolute_error(preds, y_valid))"
   ]
  },
  {
   "cell_type": "markdown",
   "id": "e283fc6c-30eb-4140-86aa-f4f301f238a8",
   "metadata": {},
   "source": [
    "#### This is the evaluation for the RandomForestRegressor model."
   ]
  },
  {
   "cell_type": "code",
   "execution_count": 96,
   "id": "240f1600-6fdc-49ec-a42e-131657c476c1",
   "metadata": {},
   "outputs": [
    {
     "name": "stdout",
     "output_type": "stream",
     "text": [
      "Validation MAE of the model RandomForestRegressor: 0.35594970148650523\n"
     ]
    }
   ],
   "source": [
    "# Specify Model (RandomForestRegressor)\n",
    "random_forest = RandomForestRegressor(random_state=1)\n",
    "\n",
    "eval_random_forest = Pipeline(steps=[('preprocessor', best_preprocesser),\n",
    "                     ('model', random_forest)\n",
    "                     ])\n",
    "\n",
    "# Preprocessing of training data, fit model \n",
    "eval_random_forest.fit(X_train, y_train)\n",
    "\n",
    "# Preprocessing of validation data, get predictions\n",
    "preds = eval_random_forest.predict(X_valid)\n",
    "print(\"Validation MAE of the model RandomForestRegressor:\", mean_absolute_error(preds, y_valid))"
   ]
  },
  {
   "cell_type": "markdown",
   "id": "7740c87e-de61-4d83-8f9b-e0264fb5a84e",
   "metadata": {},
   "source": [
    "**Observation**\n",
    "- It is clear that the model DecisionTreeRegresson performs better (0.3544 vs 0.3559)\n",
    "- Because of that, it is clear that the DecisionTreeRegressor works better in this situation."
   ]
  },
  {
   "cell_type": "markdown",
   "id": "92792262-3236-43ae-b4d2-1bf685fdbf9c",
   "metadata": {},
   "source": [
    "### Optimise the model for better predictions.\n",
    "\n",
    "- Since the model works differently with different number of nodes, it is better to optimize the size of the tree to make better predictions.\n",
    "\n",
    "**We will try adjusting the following set of hyperparameters:**\n",
    "\n",
    "- max_depth = The maximum depth of the tree\n",
    "- max_features = max number of features considered for splitting a node\n",
    "- min_samples_split = min number of data points placed in a node before the node is split\n",
    "- min_samples_leaf = min number of data points allowed in a leaf node"
   ]
  },
  {
   "cell_type": "markdown",
   "id": "c2f9756b-ae3d-4117-bee6-b17108a4fc38",
   "metadata": {},
   "source": [
    "#### Evaluate the range of values of the herparameters"
   ]
  },
  {
   "cell_type": "code",
   "execution_count": 97,
   "id": "4d123fc1-8060-490b-aed3-8147ff17706a",
   "metadata": {},
   "outputs": [],
   "source": [
    "max_depth = np.arange(1, 100, 10, dtype=int)\n",
    "max_features = ['auto', 'sqrt']\n",
    "min_samples_leaf = [1, 2, 4]\n",
    "min_samples_split = [2, 5, 10]"
   ]
  },
  {
   "cell_type": "code",
   "execution_count": 98,
   "id": "1647fd11-4176-44e5-816b-87e5044bd8c2",
   "metadata": {},
   "outputs": [
    {
     "data": {
      "image/png": "[encoded data removed]",
      "text/plain": [
       "<Figure size 432x288 with 1 Axes>"
      ]
     },
     "metadata": {
      "needs_background": "light"
     },
     "output_type": "display_data"
    }
   ],
   "source": [
    "max_depth_results = {values : sum(-1 * cross_val_score(Pipeline(steps=[\n",
    "                                        ('preprocessor', best_preprocesser),\n",
    "                                        ('model', DecisionTreeRegressor(max_depth=values, random_state=0))\n",
    "                                        ]), X_train, y_train, cv=5, scoring='neg_mean_absolute_error')) / 5\n",
    "                     for values in max_depth}\n",
    "\n",
    "plt.plot(list(max_depth_results.keys()), list(max_depth_results.values()))\n",
    "plt.show()"
   ]
  },
  {
   "cell_type": "code",
   "execution_count": 99,
   "id": "d25db560-5e83-49cf-b7af-83ba760b984a",
   "metadata": {},
   "outputs": [
    {
     "name": "stdout",
     "output_type": "stream",
     "text": [
      "31\n"
     ]
    }
   ],
   "source": [
    "max_depth_best = min(max_depth_results, key=max_depth_results.get)\n",
    "print(max_depth_best)"
   ]
  },
  {
   "cell_type": "markdown",
   "id": "743fd832-36d9-499d-b04f-7c867d886888",
   "metadata": {},
   "source": [
    "**Observation**\n",
    "- It is clear that the best value for the parameter max_depth is around 20 (30, for more accurate)."
   ]
  },
  {
   "cell_type": "code",
   "execution_count": 100,
   "id": "e285fef0-089b-4205-84d3-09dd410e1ccd",
   "metadata": {},
   "outputs": [
    {
     "name": "stdout",
     "output_type": "stream",
     "text": [
      "auto\n"
     ]
    }
   ],
   "source": [
    "max_features_results = {values : sum(-1 * cross_val_score(Pipeline(steps=[\n",
    "                                        ('preprocessor', best_preprocesser),\n",
    "                                        ('model', DecisionTreeRegressor(max_features=values, random_state=0))\n",
    "                                        ]), X_train, y_train, cv=5, scoring='neg_mean_absolute_error')) / 5\n",
    "                     for values in max_features}\n",
    "\n",
    "max_features_best = min(max_features_results, key=max_features_results.get)\n",
    "print(max_features_best)"
   ]
  },
  {
   "cell_type": "code",
   "execution_count": 101,
   "id": "38cac2b3-b6d7-43f4-92c6-5a94542a35c7",
   "metadata": {},
   "outputs": [
    {
     "name": "stdout",
     "output_type": "stream",
     "text": [
      "2\n"
     ]
    }
   ],
   "source": [
    "min_samples_leaf_results = {values : sum(-1 * cross_val_score(Pipeline(steps=[\n",
    "                                        ('preprocessor', best_preprocesser),\n",
    "                                        ('model', DecisionTreeRegressor(min_samples_leaf=values, random_state=0))\n",
    "                                        ]), X_train, y_train, cv=5, scoring='neg_mean_absolute_error')) / 5\n",
    "                     for values in min_samples_leaf}\n",
    "\n",
    "min_samples_leaf_best = min(min_samples_leaf_results, key=min_samples_leaf_results.get)\n",
    "print(min_samples_leaf_best)"
   ]
  },
  {
   "cell_type": "code",
   "execution_count": 102,
   "id": "a7f49f88-6dc8-4c94-9916-a641fb17b1c6",
   "metadata": {},
   "outputs": [
    {
     "name": "stdout",
     "output_type": "stream",
     "text": [
      "10\n"
     ]
    }
   ],
   "source": [
    "min_samples_split_results = {values : sum(-1 * cross_val_score(Pipeline(steps=[\n",
    "                                        ('preprocessor', best_preprocesser),\n",
    "                                        ('model', DecisionTreeRegressor(min_samples_split=values, random_state=0))\n",
    "                                        ]), X_train, y_train, cv=5, scoring='neg_mean_absolute_error')) / 5\n",
    "                     for values in min_samples_split}\n",
    "\n",
    "min_samples_split_best = min(min_samples_split_results, key=min_samples_split_results.get)\n",
    "print(min_samples_split_best)"
   ]
  },
  {
   "cell_type": "markdown",
   "id": "cd318b34-c27f-40fb-b690-962a5e9a6540",
   "metadata": {},
   "source": [
    "#### Comparing the model just evaluated & the previous one"
   ]
  },
  {
   "cell_type": "code",
   "execution_count": 103,
   "id": "a4165880-696a-4f2f-8ef7-bb70b2cbfe6b",
   "metadata": {},
   "outputs": [
    {
     "name": "stdout",
     "output_type": "stream",
     "text": [
      "Validation MAE of the best model DecisionTreeRegressor: 0.3566066876942778\n"
     ]
    }
   ],
   "source": [
    "best_model = DecisionTreeRegressor(random_state=1, max_depth=31, max_features='auto', \n",
    "                                   min_samples_leaf=2, min_samples_split=10)\n",
    "\n",
    "eval_decision_tree = Pipeline(steps=[('preprocessor', best_preprocesser),\n",
    "                     ('model', best_model)\n",
    "                     ])\n",
    "\n",
    "# Preprocessing of training data, fit model \n",
    "eval_decision_tree.fit(X_train, y_train)\n",
    "\n",
    "# Preprocessing of validation data, get predictions\n",
    "preds = eval_decision_tree.predict(X_valid)\n",
    "print(\"Validation MAE of the best model DecisionTreeRegressor:\", mean_absolute_error(preds, y_valid))"
   ]
  },
  {
   "cell_type": "markdown",
   "id": "7ba019d2-434c-4710-ab36-1681ee1861fe",
   "metadata": {},
   "source": [
    "### Conclusion\n",
    "\n",
    "- Since the hypothesis of Cross-Validation doesn't work better than the normal DecisionTreeRegressor().\n",
    "- The best model for this situation is DecisionTreeRegressor()."
   ]
  },
  {
   "cell_type": "code",
   "execution_count": 104,
   "id": "86b11688-885a-42d1-99ef-2094402ef702",
   "metadata": {},
   "outputs": [],
   "source": [
    "# Best pipeline for the dataset.\n",
    "df_pipeline = Pipeline(steps=[('preprocessor', best_preprocesser),\n",
    "                     ('model', DecisionTreeRegressor())\n",
    "                     ])"
   ]
  },
  {
   "cell_type": "markdown",
   "id": "cbad2da1-a541-424b-817b-081efb3056e2",
   "metadata": {},
   "source": [
    "### Extract the result into a file to evaluate.\n",
    "- Below I will extract the file of submission to submit to the challenge of Kaggle."
   ]
  },
  {
   "cell_type": "code",
   "execution_count": 105,
   "id": "c69675d0-105a-4eef-9b4c-c8a1d4708239",
   "metadata": {},
   "outputs": [],
   "source": [
    "# make predictions which we will submit.\n",
    "output_dataset.head()\n",
    "df_pipeline.fit(X_train, y_train)\n",
    "test_preds = df_pipeline.predict(output_dataset)"
   ]
  },
  {
   "cell_type": "code",
   "execution_count": 129,
   "id": "d34c08f0-97c2-4651-bf9a-df2e3c81ea4d",
   "metadata": {},
   "outputs": [],
   "source": [
    "output = pd.DataFrame({'PassengerId': output_dataset[\"PassengerId\"],\n",
    "                       'Transported': (float(value) > 0.503624 for value in test_preds)})\n",
    "\n",
    "output.to_csv('submission.csv', index=False)"
   ]
  },
  {
   "cell_type": "code",
   "execution_count": null,
   "id": "a9abd110-d368-4b14-9111-2ee6b8bf1a1a",
   "metadata": {},
   "outputs": [],
   "source": []
  }
 ],
 "metadata": {
  "kernelspec": {
   "display_name": "Python 3 (ipykernel)",
   "language": "python",
   "name": "python3"
  },
  "language_info": {
   "codemirror_mode": {
    "name": "ipython",
    "version": 3
   },
   "file_extension": ".py",
   "mimetype": "text/x-python",
   "name": "python",
   "nbconvert_exporter": "python",
   "pygments_lexer": "ipython3",
   "version": "3.9.12"
  }
 },
 "nbformat": 4,
 "nbformat_minor": 5
}
